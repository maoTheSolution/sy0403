{
 "cells": [
  {
   "cell_type": "code",
   "execution_count": null,
   "id": "ff66aea5",
   "metadata": {},
   "outputs": [],
   "source": [
    "# turtle color list\n",
    "# https://cs111.wellesley.edu/labs/lab02/colors"
   ]
  },
  {
   "cell_type": "code",
   "execution_count": 10,
   "id": "5ca07dd5",
   "metadata": {},
   "outputs": [],
   "source": [
    "def init():\n",
    "    global colors, shapes\n",
    "#     colors = list()\n",
    "    colors = [\"Yellow\", \"Green\"]\n",
    "    shapes = list()"
   ]
  },
  {
   "cell_type": "code",
   "execution_count": 11,
   "id": "9f2bd750",
   "metadata": {},
   "outputs": [],
   "source": [
    "def addColor(color):\n",
    "    global colors\n",
    "    colors.append(color)"
   ]
  },
  {
   "cell_type": "code",
   "execution_count": 12,
   "id": "d16262cd",
   "metadata": {},
   "outputs": [],
   "source": [
    "def getNumColors():\n",
    "    global colors\n",
    "    \n",
    "    return len(colors) "
   ]
  },
  {
   "cell_type": "code",
   "execution_count": 18,
   "id": "f40bc460",
   "metadata": {},
   "outputs": [],
   "source": [
    "def getColors():\n",
    "    global colors\n",
    "    \n",
    "    return colors"
   ]
  },
  {
   "cell_type": "code",
   "execution_count": 13,
   "id": "7c3ad6bb",
   "metadata": {},
   "outputs": [],
   "source": [
    "init()"
   ]
  },
  {
   "cell_type": "code",
   "execution_count": 14,
   "id": "f6dc4b61",
   "metadata": {},
   "outputs": [
    {
     "data": {
      "text/plain": [
       "['Yellow', 'Green']"
      ]
     },
     "execution_count": 14,
     "metadata": {},
     "output_type": "execute_result"
    }
   ],
   "source": [
    "colors"
   ]
  },
  {
   "cell_type": "code",
   "execution_count": 15,
   "id": "443b5d6a",
   "metadata": {},
   "outputs": [],
   "source": [
    "addColor(\"Red\")"
   ]
  },
  {
   "cell_type": "code",
   "execution_count": 16,
   "id": "9a9a1893",
   "metadata": {},
   "outputs": [
    {
     "data": {
      "text/plain": [
       "['Yellow', 'Green', 'Red']"
      ]
     },
     "execution_count": 16,
     "metadata": {},
     "output_type": "execute_result"
    }
   ],
   "source": [
    "colors"
   ]
  },
  {
   "cell_type": "code",
   "execution_count": 17,
   "id": "b5c50143",
   "metadata": {},
   "outputs": [
    {
     "data": {
      "text/plain": [
       "3"
      ]
     },
     "execution_count": 17,
     "metadata": {},
     "output_type": "execute_result"
    }
   ],
   "source": [
    "getNumColors()"
   ]
  },
  {
   "cell_type": "code",
   "execution_count": 19,
   "id": "85b0bb6e",
   "metadata": {},
   "outputs": [
    {
     "data": {
      "text/plain": [
       "['Yellow', 'Green', 'Red']"
      ]
     },
     "execution_count": 19,
     "metadata": {},
     "output_type": "execute_result"
    }
   ],
   "source": [
    "getColors()"
   ]
  },
  {
   "cell_type": "code",
   "execution_count": null,
   "id": "d7ad72a6",
   "metadata": {},
   "outputs": [],
   "source": []
  },
  {
   "cell_type": "code",
   "execution_count": 47,
   "id": "f08c1d4b",
   "metadata": {},
   "outputs": [
    {
     "data": {
      "text/plain": [
       "'Yellow'"
      ]
     },
     "execution_count": 47,
     "metadata": {},
     "output_type": "execute_result"
    }
   ],
   "source": [
    "import random\n",
    "\n",
    "getColors()[random.randint(0, getNumColors()-1)]"
   ]
  },
  {
   "cell_type": "code",
   "execution_count": null,
   "id": "c88b0e4a",
   "metadata": {},
   "outputs": [],
   "source": []
  },
  {
   "cell_type": "code",
   "execution_count": 22,
   "id": "31f65019",
   "metadata": {},
   "outputs": [],
   "source": [
    "# setter"
   ]
  },
  {
   "cell_type": "code",
   "execution_count": null,
   "id": "5b06f4eb",
   "metadata": {},
   "outputs": [],
   "source": [
    "# getter"
   ]
  }
 ],
 "metadata": {
  "kernelspec": {
   "display_name": "Python 3 (ipykernel)",
   "language": "python",
   "name": "python3"
  },
  "language_info": {
   "codemirror_mode": {
    "name": "ipython",
    "version": 3
   },
   "file_extension": ".py",
   "mimetype": "text/x-python",
   "name": "python",
   "nbconvert_exporter": "python",
   "pygments_lexer": "ipython3",
   "version": "3.11.3"
  }
 },
 "nbformat": 4,
 "nbformat_minor": 5
}
