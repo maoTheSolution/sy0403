{
 "cells": [
  {
   "cell_type": "code",
   "execution_count": null,
   "id": "203f6bb0",
   "metadata": {},
   "outputs": [],
   "source": [
    "# turtle color list\n",
    "# https://cs111.wellesley.edu/labs/lab02/colors"
   ]
  },
  {
   "cell_type": "code",
   "execution_count": 10,
   "id": "77c9ff63",
   "metadata": {},
   "outputs": [],
   "source": [
    "def init():\n",
    "    global colors, shapes\n",
    "#     colors = list()\n",
    "    colors = [\"Yellow\", \"Green\"]\n",
    "    shapes = list()"
   ]
  },
  {
   "cell_type": "code",
   "execution_count": 11,
   "id": "2a485435",
   "metadata": {},
   "outputs": [],
   "source": [
    "def addColor(color):\n",
    "    global colors\n",
    "    colors.append(color)"
   ]
  },
  {
   "cell_type": "code",
   "execution_count": 12,
   "id": "a5409e5f",
   "metadata": {},
   "outputs": [],
   "source": [
    "def getNumColors():\n",
    "    global colors\n",
    "    \n",
    "    return len(colors) "
   ]
  },
  {
   "cell_type": "code",
   "execution_count": 18,
   "id": "db1083d2",
   "metadata": {},
   "outputs": [],
   "source": [
    "def getColors():\n",
    "    global colors\n",
    "    \n",
    "    return colors"
   ]
  },
  {
   "cell_type": "code",
   "execution_count": 13,
   "id": "477d19ca",
   "metadata": {},
   "outputs": [],
   "source": [
    "init()"
   ]
  },
  {
   "cell_type": "code",
   "execution_count": 14,
   "id": "7833ec50",
   "metadata": {},
   "outputs": [
    {
     "data": {
      "text/plain": [
       "['Yellow', 'Green']"
      ]
     },
     "execution_count": 14,
     "metadata": {},
     "output_type": "execute_result"
    }
   ],
   "source": [
    "colors"
   ]
  },
  {
   "cell_type": "code",
   "execution_count": 15,
   "id": "3331d0f3",
   "metadata": {},
   "outputs": [],
   "source": [
    "addColor(\"Red\")"
   ]
  },
  {
   "cell_type": "code",
   "execution_count": 16,
   "id": "b9289306",
   "metadata": {},
   "outputs": [
    {
     "data": {
      "text/plain": [
       "['Yellow', 'Green', 'Red']"
      ]
     },
     "execution_count": 16,
     "metadata": {},
     "output_type": "execute_result"
    }
   ],
   "source": [
    "colors"
   ]
  },
  {
   "cell_type": "code",
   "execution_count": 17,
   "id": "7a8dddaa",
   "metadata": {},
   "outputs": [
    {
     "data": {
      "text/plain": [
       "3"
      ]
     },
     "execution_count": 17,
     "metadata": {},
     "output_type": "execute_result"
    }
   ],
   "source": [
    "getNumColors()"
   ]
  },
  {
   "cell_type": "code",
   "execution_count": 19,
   "id": "89ea3668",
   "metadata": {},
   "outputs": [
    {
     "data": {
      "text/plain": [
       "['Yellow', 'Green', 'Red']"
      ]
     },
     "execution_count": 19,
     "metadata": {},
     "output_type": "execute_result"
    }
   ],
   "source": [
    "getColors()"
   ]
  },
  {
   "cell_type": "code",
   "execution_count": null,
   "id": "dfe8bd7b",
   "metadata": {},
   "outputs": [],
   "source": []
  },
  {
   "cell_type": "code",
   "execution_count": 47,
   "id": "fdab33f5",
   "metadata": {},
   "outputs": [
    {
     "data": {
      "text/plain": [
       "'Yellow'"
      ]
     },
     "execution_count": 47,
     "metadata": {},
     "output_type": "execute_result"
    }
   ],
   "source": [
    "import random\n",
    "\n",
    "getColors()[random.randint(0, getNumColors()-1)]"
   ]
  },
  {
   "cell_type": "code",
   "execution_count": null,
   "id": "2a939cdc",
   "metadata": {},
   "outputs": [],
   "source": []
  },
  {
   "cell_type": "code",
   "execution_count": 22,
   "id": "8d461f8a",
   "metadata": {},
   "outputs": [],
   "source": [
    "# setter"
   ]
  },
  {
   "cell_type": "code",
   "execution_count": null,
   "id": "fb063804",
   "metadata": {},
   "outputs": [],
   "source": [
    "# getter"
   ]
  }
 ],
 "metadata": {
  "kernelspec": {
   "display_name": "Python 3 (ipykernel)",
   "language": "python",
   "name": "python3"
  },
  "language_info": {
   "codemirror_mode": {
    "name": "ipython",
    "version": 3
   },
   "file_extension": ".py",
   "mimetype": "text/x-python",
   "name": "python",
   "nbconvert_exporter": "python",
   "pygments_lexer": "ipython3",
   "version": "3.11.3"
  }
 },
 "nbformat": 4,
 "nbformat_minor": 5
}
