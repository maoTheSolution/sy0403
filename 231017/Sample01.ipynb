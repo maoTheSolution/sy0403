{
 "cells": [
  {
   "cell_type": "code",
   "execution_count": 40,
   "id": "dca2aefa",
   "metadata": {},
   "outputs": [],
   "source": [
    "t = [1,2,3,4,5]"
   ]
  },
  {
   "cell_type": "code",
   "execution_count": 36,
   "id": "a9b0f599",
   "metadata": {},
   "outputs": [],
   "source": [
    "r = range(10)"
   ]
  },
  {
   "cell_type": "code",
   "execution_count": 37,
   "id": "ca5d3982",
   "metadata": {},
   "outputs": [],
   "source": [
    "d = dict()\n",
    "d[3] = 'A'"
   ]
  },
  {
   "cell_type": "code",
   "execution_count": 38,
   "id": "1842fcb7",
   "metadata": {},
   "outputs": [],
   "source": [
    "tu = (2,3,4)"
   ]
  },
  {
   "cell_type": "code",
   "execution_count": 39,
   "id": "025aaaf4",
   "metadata": {},
   "outputs": [],
   "source": [
    "s = {3,4,5,6}"
   ]
  },
  {
   "cell_type": "code",
   "execution_count": 41,
   "id": "989f412b",
   "metadata": {},
   "outputs": [
    {
     "data": {
      "text/plain": [
       "[1, 2, 3, 4, 5]"
      ]
     },
     "execution_count": 41,
     "metadata": {},
     "output_type": "execute_result"
    }
   ],
   "source": [
    "t"
   ]
  },
  {
   "cell_type": "code",
   "execution_count": 42,
   "id": "aa60e4f9",
   "metadata": {},
   "outputs": [
    {
     "data": {
      "text/plain": [
       "range(0, 10)"
      ]
     },
     "execution_count": 42,
     "metadata": {},
     "output_type": "execute_result"
    }
   ],
   "source": [
    "r"
   ]
  },
  {
   "cell_type": "code",
   "execution_count": 43,
   "id": "aeb3b94d",
   "metadata": {},
   "outputs": [
    {
     "data": {
      "text/plain": [
       "(2, 3, 4)"
      ]
     },
     "execution_count": 43,
     "metadata": {},
     "output_type": "execute_result"
    }
   ],
   "source": [
    "tu"
   ]
  },
  {
   "cell_type": "code",
   "execution_count": 44,
   "id": "03c20f14",
   "metadata": {},
   "outputs": [
    {
     "data": {
      "text/plain": [
       "{3, 4, 5, 6}"
      ]
     },
     "execution_count": 44,
     "metadata": {},
     "output_type": "execute_result"
    }
   ],
   "source": [
    "s"
   ]
  },
  {
   "cell_type": "code",
   "execution_count": 45,
   "id": "e1f4e1e4",
   "metadata": {},
   "outputs": [
    {
     "data": {
      "text/plain": [
       "{3: 'A'}"
      ]
     },
     "execution_count": 45,
     "metadata": {},
     "output_type": "execute_result"
    }
   ],
   "source": [
    "d"
   ]
  },
  {
   "cell_type": "code",
   "execution_count": 46,
   "id": "f9963fd8",
   "metadata": {},
   "outputs": [],
   "source": [
    "# python \n",
    "# data structure : list, dictionary, tuple, set, range\n",
    "# algorithm"
   ]
  },
  {
   "cell_type": "code",
   "execution_count": 47,
   "id": "c74f9c2b",
   "metadata": {},
   "outputs": [],
   "source": [
    "t = list()"
   ]
  },
  {
   "cell_type": "code",
   "execution_count": 49,
   "id": "dd9acccc",
   "metadata": {},
   "outputs": [
    {
     "data": {
      "text/plain": [
       "[]"
      ]
     },
     "execution_count": 49,
     "metadata": {},
     "output_type": "execute_result"
    }
   ],
   "source": [
    "t"
   ]
  },
  {
   "cell_type": "code",
   "execution_count": 50,
   "id": "c26feef1",
   "metadata": {},
   "outputs": [],
   "source": [
    "t.append(3)"
   ]
  },
  {
   "cell_type": "code",
   "execution_count": 51,
   "id": "82a6d542",
   "metadata": {},
   "outputs": [
    {
     "data": {
      "text/plain": [
       "[3]"
      ]
     },
     "execution_count": 51,
     "metadata": {},
     "output_type": "execute_result"
    }
   ],
   "source": [
    "t"
   ]
  },
  {
   "cell_type": "code",
   "execution_count": 52,
   "id": "d7309377",
   "metadata": {},
   "outputs": [],
   "source": [
    "t.append(10)"
   ]
  },
  {
   "cell_type": "code",
   "execution_count": 53,
   "id": "f0a37083",
   "metadata": {},
   "outputs": [
    {
     "data": {
      "text/plain": [
       "[3, 10]"
      ]
     },
     "execution_count": 53,
     "metadata": {},
     "output_type": "execute_result"
    }
   ],
   "source": [
    "t"
   ]
  },
  {
   "cell_type": "code",
   "execution_count": 54,
   "id": "405066c6",
   "metadata": {},
   "outputs": [],
   "source": [
    "t.append(10)"
   ]
  },
  {
   "cell_type": "code",
   "execution_count": 55,
   "id": "f432891d",
   "metadata": {},
   "outputs": [
    {
     "data": {
      "text/plain": [
       "[3, 10, 10]"
      ]
     },
     "execution_count": 55,
     "metadata": {},
     "output_type": "execute_result"
    }
   ],
   "source": [
    "t"
   ]
  },
  {
   "cell_type": "code",
   "execution_count": 57,
   "id": "d8625b66",
   "metadata": {},
   "outputs": [],
   "source": [
    "t.append(\"I am String\")"
   ]
  },
  {
   "cell_type": "code",
   "execution_count": 58,
   "id": "e8eb031a",
   "metadata": {},
   "outputs": [
    {
     "data": {
      "text/plain": [
       "[3, 10, 10, 'I am String']"
      ]
     },
     "execution_count": 58,
     "metadata": {},
     "output_type": "execute_result"
    }
   ],
   "source": [
    "t"
   ]
  },
  {
   "cell_type": "code",
   "execution_count": 60,
   "id": "f36c1985",
   "metadata": {},
   "outputs": [],
   "source": [
    "t.append(3.33333)"
   ]
  },
  {
   "cell_type": "code",
   "execution_count": 61,
   "id": "b45eef7e",
   "metadata": {},
   "outputs": [
    {
     "data": {
      "text/plain": [
       "[3, 10, 10, 'I am String', 3.33333]"
      ]
     },
     "execution_count": 61,
     "metadata": {},
     "output_type": "execute_result"
    }
   ],
   "source": [
    "t"
   ]
  },
  {
   "cell_type": "code",
   "execution_count": 62,
   "id": "d2ee1e4f",
   "metadata": {},
   "outputs": [
    {
     "name": "stdout",
     "output_type": "stream",
     "text": [
      "<class 'int'>\n",
      "<class 'int'>\n",
      "<class 'int'>\n",
      "<class 'str'>\n",
      "<class 'float'>\n"
     ]
    }
   ],
   "source": [
    "for each in t:\n",
    "    print(type(each))"
   ]
  },
  {
   "cell_type": "code",
   "execution_count": 64,
   "id": "0b7f879d",
   "metadata": {},
   "outputs": [],
   "source": [
    "temp = 3.3"
   ]
  },
  {
   "cell_type": "code",
   "execution_count": 65,
   "id": "429e41a2",
   "metadata": {},
   "outputs": [
    {
     "name": "stdout",
     "output_type": "stream",
     "text": [
      "<class 'float'>\n"
     ]
    }
   ],
   "source": [
    "print(type(temp))"
   ]
  },
  {
   "cell_type": "code",
   "execution_count": 66,
   "id": "aff8d413",
   "metadata": {},
   "outputs": [],
   "source": [
    "temp = 4"
   ]
  },
  {
   "cell_type": "code",
   "execution_count": 68,
   "id": "9283420e",
   "metadata": {},
   "outputs": [
    {
     "name": "stdout",
     "output_type": "stream",
     "text": [
      "<class 'int'>\n"
     ]
    }
   ],
   "source": [
    "print(type(temp))"
   ]
  },
  {
   "cell_type": "code",
   "execution_count": 1,
   "id": "3d62d567",
   "metadata": {},
   "outputs": [],
   "source": [
    "tt = [4,5,6,7,8,2,3,4]"
   ]
  },
  {
   "cell_type": "code",
   "execution_count": 2,
   "id": "09a0e0e4",
   "metadata": {},
   "outputs": [],
   "source": [
    "# [2,3,4,8,6,7,5,4]\n",
    "# insert\n",
    "\n",
    "def f1(sampleL):\n",
    "    newList = list()\n",
    "    return newList\n"
   ]
  },
  {
   "cell_type": "code",
   "execution_count": null,
   "id": "c070dbfb",
   "metadata": {},
   "outputs": [],
   "source": [
    "# [2,3,4,8,6,7,5,4]\n",
    "f1(tt)"
   ]
  }
 ],
 "metadata": {
  "kernelspec": {
   "display_name": "Python 3 (ipykernel)",
   "language": "python",
   "name": "python3"
  },
  "language_info": {
   "codemirror_mode": {
    "name": "ipython",
    "version": 3
   },
   "file_extension": ".py",
   "mimetype": "text/x-python",
   "name": "python",
   "nbconvert_exporter": "python",
   "pygments_lexer": "ipython3",
   "version": "3.11.3"
  }
 },
 "nbformat": 4,
 "nbformat_minor": 5
}
