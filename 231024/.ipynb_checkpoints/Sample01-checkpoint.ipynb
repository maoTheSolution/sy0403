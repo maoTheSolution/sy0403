{
 "cells": [
  {
   "cell_type": "code",
   "execution_count": 1,
   "id": "43d44678",
   "metadata": {},
   "outputs": [],
   "source": [
    "temp = {'A':100, 'B':150}"
   ]
  },
  {
   "cell_type": "code",
   "execution_count": 2,
   "id": "5c5d8aa3",
   "metadata": {},
   "outputs": [
    {
     "data": {
      "text/plain": [
       "{'A': 100, 'B': 150}"
      ]
     },
     "execution_count": 2,
     "metadata": {},
     "output_type": "execute_result"
    }
   ],
   "source": [
    "temp"
   ]
  },
  {
   "cell_type": "code",
   "execution_count": 3,
   "id": "f067e21a",
   "metadata": {},
   "outputs": [
    {
     "data": {
      "text/plain": [
       "100"
      ]
     },
     "execution_count": 3,
     "metadata": {},
     "output_type": "execute_result"
    }
   ],
   "source": [
    "temp['A']"
   ]
  },
  {
   "cell_type": "code",
   "execution_count": 4,
   "id": "ae10d8d5",
   "metadata": {},
   "outputs": [
    {
     "data": {
      "text/plain": [
       "150"
      ]
     },
     "execution_count": 4,
     "metadata": {},
     "output_type": "execute_result"
    }
   ],
   "source": [
    "temp['B']"
   ]
  },
  {
   "cell_type": "code",
   "execution_count": 5,
   "id": "5ec4cf1c",
   "metadata": {},
   "outputs": [],
   "source": [
    "temp['A'] = 300"
   ]
  },
  {
   "cell_type": "code",
   "execution_count": 6,
   "id": "b17a36cd",
   "metadata": {},
   "outputs": [
    {
     "data": {
      "text/plain": [
       "{'A': 300, 'B': 150}"
      ]
     },
     "execution_count": 6,
     "metadata": {},
     "output_type": "execute_result"
    }
   ],
   "source": [
    "temp"
   ]
  },
  {
   "cell_type": "code",
   "execution_count": 7,
   "id": "665bfee0",
   "metadata": {},
   "outputs": [
    {
     "data": {
      "text/plain": [
       "dict_values([300, 150])"
      ]
     },
     "execution_count": 7,
     "metadata": {},
     "output_type": "execute_result"
    }
   ],
   "source": [
    "temp.values()"
   ]
  },
  {
   "cell_type": "code",
   "execution_count": 10,
   "id": "adbfff2c",
   "metadata": {},
   "outputs": [
    {
     "data": {
      "text/plain": [
       "dict_keys"
      ]
     },
     "execution_count": 10,
     "metadata": {},
     "output_type": "execute_result"
    }
   ],
   "source": [
    "type(temp.keys())"
   ]
  },
  {
   "cell_type": "code",
   "execution_count": 9,
   "id": "ac25d950",
   "metadata": {},
   "outputs": [
    {
     "name": "stdout",
     "output_type": "stream",
     "text": [
      "A\n",
      "B\n"
     ]
    }
   ],
   "source": [
    "for each in temp.keys():\n",
    "    print(each)"
   ]
  },
  {
   "cell_type": "code",
   "execution_count": 13,
   "id": "adb623a4",
   "metadata": {},
   "outputs": [],
   "source": [
    "temp['C']=500"
   ]
  },
  {
   "cell_type": "code",
   "execution_count": 14,
   "id": "7b70b36c",
   "metadata": {},
   "outputs": [
    {
     "data": {
      "text/plain": [
       "{'A': 300, 'B': 150, 'C': 500}"
      ]
     },
     "execution_count": 14,
     "metadata": {},
     "output_type": "execute_result"
    }
   ],
   "source": [
    "temp"
   ]
  },
  {
   "cell_type": "code",
   "execution_count": 15,
   "id": "f61a0b9d",
   "metadata": {},
   "outputs": [
    {
     "data": {
      "text/plain": [
       "['__class__',\n",
       " '__class_getitem__',\n",
       " '__contains__',\n",
       " '__delattr__',\n",
       " '__delitem__',\n",
       " '__dir__',\n",
       " '__doc__',\n",
       " '__eq__',\n",
       " '__format__',\n",
       " '__ge__',\n",
       " '__getattribute__',\n",
       " '__getitem__',\n",
       " '__getstate__',\n",
       " '__gt__',\n",
       " '__hash__',\n",
       " '__init__',\n",
       " '__init_subclass__',\n",
       " '__ior__',\n",
       " '__iter__',\n",
       " '__le__',\n",
       " '__len__',\n",
       " '__lt__',\n",
       " '__ne__',\n",
       " '__new__',\n",
       " '__or__',\n",
       " '__reduce__',\n",
       " '__reduce_ex__',\n",
       " '__repr__',\n",
       " '__reversed__',\n",
       " '__ror__',\n",
       " '__setattr__',\n",
       " '__setitem__',\n",
       " '__sizeof__',\n",
       " '__str__',\n",
       " '__subclasshook__',\n",
       " 'clear',\n",
       " 'copy',\n",
       " 'fromkeys',\n",
       " 'get',\n",
       " 'items',\n",
       " 'keys',\n",
       " 'pop',\n",
       " 'popitem',\n",
       " 'setdefault',\n",
       " 'update',\n",
       " 'values']"
      ]
     },
     "execution_count": 15,
     "metadata": {},
     "output_type": "execute_result"
    }
   ],
   "source": [
    "dir(temp)"
   ]
  },
  {
   "cell_type": "code",
   "execution_count": 16,
   "id": "a0f7bd05",
   "metadata": {},
   "outputs": [
    {
     "data": {
      "text/plain": [
       "dict_items([('A', 300), ('B', 150), ('C', 500)])"
      ]
     },
     "execution_count": 16,
     "metadata": {},
     "output_type": "execute_result"
    }
   ],
   "source": [
    "temp.items()"
   ]
  },
  {
   "cell_type": "code",
   "execution_count": 17,
   "id": "58060d32",
   "metadata": {},
   "outputs": [
    {
     "name": "stdout",
     "output_type": "stream",
     "text": [
      "('A', 300)\n",
      "('B', 150)\n",
      "('C', 500)\n"
     ]
    }
   ],
   "source": [
    "for each in temp.items():\n",
    "    print(each)"
   ]
  },
  {
   "cell_type": "code",
   "execution_count": 18,
   "id": "c9927e96",
   "metadata": {},
   "outputs": [
    {
     "name": "stdout",
     "output_type": "stream",
     "text": [
      "300\n",
      "150\n",
      "500\n"
     ]
    }
   ],
   "source": [
    "for each in temp.values():\n",
    "    print(each)"
   ]
  },
  {
   "cell_type": "code",
   "execution_count": 19,
   "id": "8f64a055",
   "metadata": {},
   "outputs": [
    {
     "data": {
      "text/plain": [
       "{'A': 300, 'B': 150, 'C': 500}"
      ]
     },
     "execution_count": 19,
     "metadata": {},
     "output_type": "execute_result"
    }
   ],
   "source": [
    "temp"
   ]
  },
  {
   "cell_type": "code",
   "execution_count": 20,
   "id": "10f4c736",
   "metadata": {},
   "outputs": [
    {
     "data": {
      "text/plain": [
       "['__class__',\n",
       " '__class_getitem__',\n",
       " '__contains__',\n",
       " '__delattr__',\n",
       " '__delitem__',\n",
       " '__dir__',\n",
       " '__doc__',\n",
       " '__eq__',\n",
       " '__format__',\n",
       " '__ge__',\n",
       " '__getattribute__',\n",
       " '__getitem__',\n",
       " '__getstate__',\n",
       " '__gt__',\n",
       " '__hash__',\n",
       " '__init__',\n",
       " '__init_subclass__',\n",
       " '__ior__',\n",
       " '__iter__',\n",
       " '__le__',\n",
       " '__len__',\n",
       " '__lt__',\n",
       " '__ne__',\n",
       " '__new__',\n",
       " '__or__',\n",
       " '__reduce__',\n",
       " '__reduce_ex__',\n",
       " '__repr__',\n",
       " '__reversed__',\n",
       " '__ror__',\n",
       " '__setattr__',\n",
       " '__setitem__',\n",
       " '__sizeof__',\n",
       " '__str__',\n",
       " '__subclasshook__',\n",
       " 'clear',\n",
       " 'copy',\n",
       " 'fromkeys',\n",
       " 'get',\n",
       " 'items',\n",
       " 'keys',\n",
       " 'pop',\n",
       " 'popitem',\n",
       " 'setdefault',\n",
       " 'update',\n",
       " 'values']"
      ]
     },
     "execution_count": 20,
     "metadata": {},
     "output_type": "execute_result"
    }
   ],
   "source": [
    "dir(temp)"
   ]
  },
  {
   "cell_type": "code",
   "execution_count": 21,
   "id": "0ac30e41",
   "metadata": {},
   "outputs": [],
   "source": [
    "temp.clear()"
   ]
  },
  {
   "cell_type": "code",
   "execution_count": 22,
   "id": "0bd94bdd",
   "metadata": {},
   "outputs": [
    {
     "data": {
      "text/plain": [
       "{}"
      ]
     },
     "execution_count": 22,
     "metadata": {},
     "output_type": "execute_result"
    }
   ],
   "source": [
    "temp"
   ]
  },
  {
   "cell_type": "code",
   "execution_count": 23,
   "id": "ce358ab2",
   "metadata": {},
   "outputs": [],
   "source": [
    "temp ={'A': 300, 'B': 150, 'C': 500}"
   ]
  },
  {
   "cell_type": "code",
   "execution_count": 24,
   "id": "e0de8532",
   "metadata": {},
   "outputs": [
    {
     "data": {
      "text/plain": [
       "{'A': 300, 'B': 150, 'C': 500}"
      ]
     },
     "execution_count": 24,
     "metadata": {},
     "output_type": "execute_result"
    }
   ],
   "source": [
    "temp"
   ]
  },
  {
   "cell_type": "code",
   "execution_count": 25,
   "id": "b7a81260",
   "metadata": {},
   "outputs": [
    {
     "data": {
      "text/plain": [
       "300"
      ]
     },
     "execution_count": 25,
     "metadata": {},
     "output_type": "execute_result"
    }
   ],
   "source": [
    "temp.pop('A')"
   ]
  },
  {
   "cell_type": "code",
   "execution_count": 26,
   "id": "be489e75",
   "metadata": {},
   "outputs": [
    {
     "data": {
      "text/plain": [
       "{'B': 150, 'C': 500}"
      ]
     },
     "execution_count": 26,
     "metadata": {},
     "output_type": "execute_result"
    }
   ],
   "source": [
    "temp"
   ]
  },
  {
   "cell_type": "code",
   "execution_count": 31,
   "id": "21b523e7",
   "metadata": {},
   "outputs": [
    {
     "data": {
      "text/plain": [
       "['__class__',\n",
       " '__class_getitem__',\n",
       " '__contains__',\n",
       " '__delattr__',\n",
       " '__delitem__',\n",
       " '__dir__',\n",
       " '__doc__',\n",
       " '__eq__',\n",
       " '__format__',\n",
       " '__ge__',\n",
       " '__getattribute__',\n",
       " '__getitem__',\n",
       " '__getstate__',\n",
       " '__gt__',\n",
       " '__hash__',\n",
       " '__init__',\n",
       " '__init_subclass__',\n",
       " '__ior__',\n",
       " '__iter__',\n",
       " '__le__',\n",
       " '__len__',\n",
       " '__lt__',\n",
       " '__ne__',\n",
       " '__new__',\n",
       " '__or__',\n",
       " '__reduce__',\n",
       " '__reduce_ex__',\n",
       " '__repr__',\n",
       " '__reversed__',\n",
       " '__ror__',\n",
       " '__setattr__',\n",
       " '__setitem__',\n",
       " '__sizeof__',\n",
       " '__str__',\n",
       " '__subclasshook__',\n",
       " 'clear',\n",
       " 'copy',\n",
       " 'fromkeys',\n",
       " 'get',\n",
       " 'items',\n",
       " 'keys',\n",
       " 'pop',\n",
       " 'popitem',\n",
       " 'setdefault',\n",
       " 'update',\n",
       " 'values']"
      ]
     },
     "execution_count": 31,
     "metadata": {},
     "output_type": "execute_result"
    }
   ],
   "source": [
    "dir(temp)"
   ]
  },
  {
   "cell_type": "code",
   "execution_count": 32,
   "id": "286a8e4c",
   "metadata": {},
   "outputs": [
    {
     "data": {
      "text/plain": [
       "{'B': 150, 'C': 500}"
      ]
     },
     "execution_count": 32,
     "metadata": {},
     "output_type": "execute_result"
    }
   ],
   "source": [
    "temp"
   ]
  },
  {
   "cell_type": "code",
   "execution_count": 33,
   "id": "8aa0b838",
   "metadata": {},
   "outputs": [
    {
     "data": {
      "text/plain": [
       "('C', 500)"
      ]
     },
     "execution_count": 33,
     "metadata": {},
     "output_type": "execute_result"
    }
   ],
   "source": [
    "temp.popitem()"
   ]
  },
  {
   "cell_type": "code",
   "execution_count": 34,
   "id": "f90e99db",
   "metadata": {},
   "outputs": [
    {
     "data": {
      "text/plain": [
       "{'B': 150}"
      ]
     },
     "execution_count": 34,
     "metadata": {},
     "output_type": "execute_result"
    }
   ],
   "source": [
    "temp"
   ]
  },
  {
   "cell_type": "code",
   "execution_count": 35,
   "id": "0e572a9e",
   "metadata": {},
   "outputs": [
    {
     "data": {
      "text/plain": [
       "('B', 150)"
      ]
     },
     "execution_count": 35,
     "metadata": {},
     "output_type": "execute_result"
    }
   ],
   "source": [
    "temp.popitem()"
   ]
  },
  {
   "cell_type": "code",
   "execution_count": 36,
   "id": "6466ee6d",
   "metadata": {},
   "outputs": [
    {
     "data": {
      "text/plain": [
       "{}"
      ]
     },
     "execution_count": 36,
     "metadata": {},
     "output_type": "execute_result"
    }
   ],
   "source": [
    "temp"
   ]
  },
  {
   "cell_type": "code",
   "execution_count": 37,
   "id": "52965b8a",
   "metadata": {},
   "outputs": [],
   "source": [
    "temp = {'A': 300, 'B': 150, 'C': 500}"
   ]
  },
  {
   "cell_type": "code",
   "execution_count": 38,
   "id": "46285a7a",
   "metadata": {},
   "outputs": [
    {
     "data": {
      "text/plain": [
       "('C', 500)"
      ]
     },
     "execution_count": 38,
     "metadata": {},
     "output_type": "execute_result"
    }
   ],
   "source": [
    "temp.popitem()"
   ]
  },
  {
   "cell_type": "code",
   "execution_count": 39,
   "id": "037bad01",
   "metadata": {},
   "outputs": [
    {
     "data": {
      "text/plain": [
       "{'A': 300, 'B': 150}"
      ]
     },
     "execution_count": 39,
     "metadata": {},
     "output_type": "execute_result"
    }
   ],
   "source": [
    "temp"
   ]
  },
  {
   "cell_type": "code",
   "execution_count": 40,
   "id": "31e8f956",
   "metadata": {},
   "outputs": [
    {
     "data": {
      "text/plain": [
       "['__class__',\n",
       " '__class_getitem__',\n",
       " '__contains__',\n",
       " '__delattr__',\n",
       " '__delitem__',\n",
       " '__dir__',\n",
       " '__doc__',\n",
       " '__eq__',\n",
       " '__format__',\n",
       " '__ge__',\n",
       " '__getattribute__',\n",
       " '__getitem__',\n",
       " '__getstate__',\n",
       " '__gt__',\n",
       " '__hash__',\n",
       " '__init__',\n",
       " '__init_subclass__',\n",
       " '__ior__',\n",
       " '__iter__',\n",
       " '__le__',\n",
       " '__len__',\n",
       " '__lt__',\n",
       " '__ne__',\n",
       " '__new__',\n",
       " '__or__',\n",
       " '__reduce__',\n",
       " '__reduce_ex__',\n",
       " '__repr__',\n",
       " '__reversed__',\n",
       " '__ror__',\n",
       " '__setattr__',\n",
       " '__setitem__',\n",
       " '__sizeof__',\n",
       " '__str__',\n",
       " '__subclasshook__',\n",
       " 'clear',\n",
       " 'copy',\n",
       " 'fromkeys',\n",
       " 'get',\n",
       " 'items',\n",
       " 'keys',\n",
       " 'pop',\n",
       " 'popitem',\n",
       " 'setdefault',\n",
       " 'update',\n",
       " 'values']"
      ]
     },
     "execution_count": 40,
     "metadata": {},
     "output_type": "execute_result"
    }
   ],
   "source": [
    "dir(temp)"
   ]
  },
  {
   "cell_type": "code",
   "execution_count": 47,
   "id": "820d3fca",
   "metadata": {},
   "outputs": [
    {
     "data": {
      "text/plain": [
       "{'A': 300, 'B': 150}"
      ]
     },
     "execution_count": 47,
     "metadata": {},
     "output_type": "execute_result"
    }
   ],
   "source": [
    "temp"
   ]
  },
  {
   "cell_type": "code",
   "execution_count": 48,
   "id": "89a67149",
   "metadata": {},
   "outputs": [],
   "source": [
    "temp.update({'C':400})"
   ]
  },
  {
   "cell_type": "code",
   "execution_count": 49,
   "id": "f59942c6",
   "metadata": {},
   "outputs": [
    {
     "data": {
      "text/plain": [
       "{'A': 300, 'B': 150, 'C': 400}"
      ]
     },
     "execution_count": 49,
     "metadata": {},
     "output_type": "execute_result"
    }
   ],
   "source": [
    "temp"
   ]
  },
  {
   "cell_type": "code",
   "execution_count": 52,
   "id": "a63cf76b",
   "metadata": {},
   "outputs": [],
   "source": [
    "temp.update({'a': 3000})"
   ]
  },
  {
   "cell_type": "code",
   "execution_count": 53,
   "id": "66641968",
   "metadata": {},
   "outputs": [
    {
     "data": {
      "text/plain": [
       "{'A': 300, 'B': 150, 'C': 400, 'a': 3000}"
      ]
     },
     "execution_count": 53,
     "metadata": {},
     "output_type": "execute_result"
    }
   ],
   "source": [
    "temp"
   ]
  },
  {
   "cell_type": "code",
   "execution_count": 54,
   "id": "16c7f3f9",
   "metadata": {},
   "outputs": [
    {
     "data": {
      "text/plain": [
       "('a', 3000)"
      ]
     },
     "execution_count": 54,
     "metadata": {},
     "output_type": "execute_result"
    }
   ],
   "source": [
    "temp.popitem()"
   ]
  },
  {
   "cell_type": "code",
   "execution_count": 55,
   "id": "d5ff95a2",
   "metadata": {},
   "outputs": [
    {
     "data": {
      "text/plain": [
       "{'A': 300, 'B': 150, 'C': 400}"
      ]
     },
     "execution_count": 55,
     "metadata": {},
     "output_type": "execute_result"
    }
   ],
   "source": [
    "temp"
   ]
  },
  {
   "cell_type": "code",
   "execution_count": 56,
   "id": "3aeb5f8c",
   "metadata": {},
   "outputs": [
    {
     "data": {
      "text/plain": [
       "3"
      ]
     },
     "execution_count": 56,
     "metadata": {},
     "output_type": "execute_result"
    }
   ],
   "source": [
    "len(temp)"
   ]
  },
  {
   "cell_type": "code",
   "execution_count": 57,
   "id": "122cf0a0",
   "metadata": {},
   "outputs": [
    {
     "data": {
      "text/plain": [
       "3"
      ]
     },
     "execution_count": 57,
     "metadata": {},
     "output_type": "execute_result"
    }
   ],
   "source": [
    "len(temp.values())"
   ]
  },
  {
   "cell_type": "code",
   "execution_count": 58,
   "id": "9ed738f2",
   "metadata": {},
   "outputs": [
    {
     "data": {
      "text/plain": [
       "{'A': 300, 'B': 150, 'C': 400}"
      ]
     },
     "execution_count": 58,
     "metadata": {},
     "output_type": "execute_result"
    }
   ],
   "source": [
    "temp"
   ]
  },
  {
   "cell_type": "code",
   "execution_count": 59,
   "id": "46ac0e66",
   "metadata": {},
   "outputs": [
    {
     "data": {
      "text/plain": [
       "\"\\n'C':400\\n'B':150\\n'A':300\\n\""
      ]
     },
     "execution_count": 59,
     "metadata": {},
     "output_type": "execute_result"
    }
   ],
   "source": [
    "'''\n",
    "'C':400\n",
    "'B':150\n",
    "'A':300\n",
    "'''"
   ]
  },
  {
   "cell_type": "code",
   "execution_count": null,
   "id": "29e41f3b",
   "metadata": {},
   "outputs": [],
   "source": [
    "def printer(d01):\n",
    "    "
   ]
  }
 ],
 "metadata": {
  "kernelspec": {
   "display_name": "Python 3 (ipykernel)",
   "language": "python",
   "name": "python3"
  },
  "language_info": {
   "codemirror_mode": {
    "name": "ipython",
    "version": 3
   },
   "file_extension": ".py",
   "mimetype": "text/x-python",
   "name": "python",
   "nbconvert_exporter": "python",
   "pygments_lexer": "ipython3",
   "version": "3.11.3"
  }
 },
 "nbformat": 4,
 "nbformat_minor": 5
}
