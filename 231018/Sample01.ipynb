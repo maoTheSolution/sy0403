{
 "cells": [
  {
   "cell_type": "code",
   "execution_count": 7,
   "id": "c9adeb00",
   "metadata": {},
   "outputs": [],
   "source": [
    "ex01 = [1,2,3,4, [1,2,3,4], [1,2,3,4, [1,2,3,4]]]\n",
    "ex02 = [4,5,[3,3,3], [3,4,5,[6,7,8],[7,8,9],[9,9,4]], 3,4,5]"
   ]
  },
  {
   "cell_type": "code",
   "execution_count": 8,
   "id": "d7007ba2",
   "metadata": {},
   "outputs": [],
   "source": [
    "# count\n",
    "# ex01 (3) --> 4\n",
    "# ex02 (3) --> 5\n",
    "# ex02 (9) --> 3"
   ]
  },
  {
   "cell_type": "code",
   "execution_count": null,
   "id": "6c1c5f82",
   "metadata": {},
   "outputs": [],
   "source": []
  }
 ],
 "metadata": {
  "kernelspec": {
   "display_name": "Python 3 (ipykernel)",
   "language": "python",
   "name": "python3"
  },
  "language_info": {
   "codemirror_mode": {
    "name": "ipython",
    "version": 3
   },
   "file_extension": ".py",
   "mimetype": "text/x-python",
   "name": "python",
   "nbconvert_exporter": "python",
   "pygments_lexer": "ipython3",
   "version": "3.11.3"
  }
 },
 "nbformat": 4,
 "nbformat_minor": 5
}
