{
 "cells": [
  {
   "cell_type": "code",
   "execution_count": 7,
   "id": "0742c07c",
   "metadata": {},
   "outputs": [],
   "source": [
    "ex01 = [1,2,3,4, [1,2,3,4], [1,2,3,4, [1,2,3,4]]]\n",
    "ex02 = [4,5,[3,3,3], [3,4,5,[6,7,8],[7,8,9],[9,9,4]], 3,4,5]"
   ]
  },
  {
   "cell_type": "code",
   "execution_count": 8,
   "id": "7dd7f747",
   "metadata": {},
   "outputs": [],
   "source": [
    "# count\n",
    "# ex01 (3) --> 4\n",
    "# ex02 (3) --> 5\n",
    "# ex02 (9) --> 3"
   ]
  },
  {
   "cell_type": "code",
   "execution_count": 9,
   "id": "c2b77286",
   "metadata": {},
   "outputs": [
    {
     "data": {
      "text/plain": [
       "[1, 2, 3, 4]"
      ]
     },
     "execution_count": 9,
     "metadata": {},
     "output_type": "execute_result"
    }
   ],
   "source": [
    "ex01[4]"
   ]
  },
  {
   "cell_type": "code",
   "execution_count": 10,
   "id": "436f8e68",
   "metadata": {},
   "outputs": [
    {
     "data": {
      "text/plain": [
       "[1, 2, 3, 4, [1, 2, 3, 4]]"
      ]
     },
     "execution_count": 10,
     "metadata": {},
     "output_type": "execute_result"
    }
   ],
   "source": [
    "ex01[5]"
   ]
  },
  {
   "cell_type": "code",
   "execution_count": 11,
   "id": "d0ebbb13",
   "metadata": {},
   "outputs": [
    {
     "data": {
      "text/plain": [
       "[1, 2, 3, 4]"
      ]
     },
     "execution_count": 11,
     "metadata": {},
     "output_type": "execute_result"
    }
   ],
   "source": [
    "ex01[5][4]"
   ]
  },
  {
   "cell_type": "code",
   "execution_count": 12,
   "id": "96782709",
   "metadata": {},
   "outputs": [
    {
     "name": "stdout",
     "output_type": "stream",
     "text": [
      "1\n",
      "2\n",
      "3\n",
      "4\n",
      "[1, 2, 3, 4]\n",
      "[1, 2, 3, 4, [1, 2, 3, 4]]\n"
     ]
    }
   ],
   "source": []
  },
  {
   "cell_type": "code",
   "execution_count": null,
   "id": "348ec56f",
   "metadata": {},
   "outputs": [],
   "source": []
  }
 ],
 "metadata": {
  "kernelspec": {
   "display_name": "Python 3 (ipykernel)",
   "language": "python",
   "name": "python3"
  },
  "language_info": {
   "codemirror_mode": {
    "name": "ipython",
    "version": 3
   },
   "file_extension": ".py",
   "mimetype": "text/x-python",
   "name": "python",
   "nbconvert_exporter": "python",
   "pygments_lexer": "ipython3",
   "version": "3.11.3"
  }
 },
 "nbformat": 4,
 "nbformat_minor": 5
}
